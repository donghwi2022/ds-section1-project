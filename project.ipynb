{
  "nbformat": 4,
  "nbformat_minor": 0,
  "metadata": {
    "colab": {
      "name": "section1_project.ipynb",
      "private_outputs": true,
      "provenance": [],
      "authorship_tag": "ABX9TyOAMN8uXG6Dt+Ff0fH6ThVb",
      "include_colab_link": true
    },
    "kernelspec": {
      "name": "python3",
      "display_name": "Python 3"
    },
    "language_info": {
      "name": "python"
    }
  },
  "cells": [
    {
      "cell_type": "markdown",
      "metadata": {
        "id": "view-in-github",
        "colab_type": "text"
      },
      "source": [
        "<a href=\"https://colab.research.google.com/github/donghwi2022/ds-section1-project/blob/main/project.ipynb\" target=\"_parent\"><img src=\"https://colab.research.google.com/assets/colab-badge.svg\" alt=\"Open In Colab\"/></a>"
      ]
    },
    {
      "cell_type": "markdown",
      "source": [
        "# 다음 분기에 어떤 게임을 설계해야 할까"
      ],
      "metadata": {
        "id": "8Dorug8dPvsI"
      }
    },
    {
      "cell_type": "markdown",
      "source": [
        "# **Part 1. 필요 라이브러리 및 데이터 로드**\n",
        "- 필요 라이브러리 import 및 한글 깨짐문제 해결\n",
        "- csv 파일 load"
      ],
      "metadata": {
        "id": "Hki1AimITVfd"
      }
    },
    {
      "cell_type": "code",
      "execution_count": null,
      "metadata": {
        "id": "c1NFKy-ciOFS"
      },
      "outputs": [],
      "source": [
        "import pandas as pd\n",
        "import matplotlib.pyplot as plt"
      ]
    },
    {
      "cell_type": "code",
      "source": [
        "#한글 깨짐문제 해결\n",
        "!sudo apt-get install -y fonts-nanum\n",
        "!sudo fc-cache -fv\n",
        "!rm ~/.cache/matplotlib -rf\n",
        "\n",
        "plt.rc('font', family='NanumBarunGothic');"
      ],
      "metadata": {
        "id": "Q8blmUpCQRFb"
      },
      "execution_count": null,
      "outputs": []
    },
    {
      "cell_type": "code",
      "source": [
        "# url로 필요 csv 파일 불러오기\n",
        "url = \"https://ds-lecture-data.s3.ap-northeast-2.amazonaws.com/datasets/vgames2.csv\"\n",
        "df = pd.read_csv(url)\n",
        "df.head()"
      ],
      "metadata": {
        "id": "QEGElHR5QRKQ"
      },
      "execution_count": null,
      "outputs": []
    },
    {
      "cell_type": "markdown",
      "source": [
        "# **Part 2. 데이터 전처리 진행**"
      ],
      "metadata": {
        "id": "PQDOoe-jTMKv"
      }
    },
    {
      "cell_type": "code",
      "source": [
        "df.info()"
      ],
      "metadata": {
        "id": "6AXTNZpWUXOA"
      },
      "execution_count": null,
      "outputs": []
    },
    {
      "cell_type": "code",
      "source": [
        "# 첫번째 column은 index를 나타내므로 해당 열 제거\n",
        "df.drop('Unnamed: 0', axis = 1, inplace = True)\n",
        "df.head()"
      ],
      "metadata": {
        "id": "BtOYOoH9Uznb"
      },
      "execution_count": null,
      "outputs": []
    },
    {
      "cell_type": "code",
      "source": [
        "# 결측치 확인\n",
        "df.isnull().sum()"
      ],
      "metadata": {
        "id": "rjpoT5rdVwEh"
      },
      "execution_count": null,
      "outputs": []
    },
    {
      "cell_type": "code",
      "source": [
        "# 데이터 양이 충분하므로, 결측치가 존재하는 데이터 삭제\n",
        "df.dropna(inplace = True)\n",
        "df.info()"
      ],
      "metadata": {
        "id": "xOTfDmfcXJZp"
      },
      "execution_count": null,
      "outputs": []
    },
    {
      "cell_type": "code",
      "source": [
        "# 중복값 확인(게임 명, 지원되는 플랫폼, 출시 연도, 장르, 게임회사 명이 같은 row는 중복데이터로 간주)\n",
        "df[df.duplicated(['Name', 'Platform', 'Year', 'Genre', 'Publisher'])]"
      ],
      "metadata": {
        "id": "Zrz23yuneFQo"
      },
      "execution_count": null,
      "outputs": []
    },
    {
      "cell_type": "code",
      "source": [
        "# 중복되는 데이터 확인\n",
        "df[(df.Name == 'Madden NFL 13') & (df.Platform == 'PS3') & (df.Year == 2012.0) & (df.Genre == 'Sports') & (df.Publisher == 'Electronic Arts')]"
      ],
      "metadata": {
        "id": "zmlOCC-4kUN8"
      },
      "execution_count": null,
      "outputs": []
    },
    {
      "cell_type": "code",
      "source": [
        "# 중복되는 데이터 중 정확한 데이터를 알 수 없기 때문에 해당 row를 전부 삭제\n",
        "duplicate_index = df[df.duplicated(['Name', 'Platform', 'Year', 'Genre', 'Publisher'])].index\n",
        "duplicated_all_index = []\n",
        "for i in range(len(duplicate_index)) :\n",
        "    duplicated_data = df.loc[duplicate_index[i]].Name, df.loc[duplicate_index[i]].Platform, df.loc[duplicate_index[i]].Year, df.loc[duplicate_index[i]].Genre, df.loc[duplicate_index[i]].Publisher\n",
        "    duplicated_all_index.extend(df[(df.Name == duplicated_data[0]) & (df.Platform == duplicated_data[1]) & (df.Year == duplicated_data[2]) & (df.Genre == duplicated_data[3]) & (df.Publisher == duplicated_data[4])].index)\n",
        "    # append를 사용할 경우 배열에 배열을 추가할 시, 배열이 그대로 유지되지만 extend는 쪼개서 한 개씩 들어감\n",
        "df.drop(duplicated_all_index, inplace = True)\n",
        "df.info()"
      ],
      "metadata": {
        "id": "PBAIecAIq1hp"
      },
      "execution_count": null,
      "outputs": []
    },
    {
      "cell_type": "code",
      "source": [
        "# 출고량에서 숫자가 아닌 데이터 출력\n",
        "for i in range(5, 9) : \n",
        "    df_1 = df.iloc[:, i].str.extract(r'([^\\.\\d])')\n",
        "    print(df.columns[i], df_1[0].unique())\n"
      ],
      "metadata": {
        "id": "Xfc9G54Fa7Qp"
      },
      "execution_count": null,
      "outputs": []
    },
    {
      "cell_type": "code",
      "source": [
        "# 출고량 단위 맞춤\n",
        "cols = df.columns[5:9] # 출고량에 해당하는 column 명 저장\n",
        "\n",
        "# K 단위를 M 단위로 맞추기 위함 함수 작성\n",
        "def k_to_m(x) : \n",
        "    return x/1000 \n",
        "\n",
        "for i in cols : \n",
        "    df[i] = df[i].str.replace('M', '') # M은 문자만 삭제\n",
        "    df1 = df[df.loc[:, i].str.contains('K')].loc[:, i].str.replace('K', '').astype(int).apply(k_to_m) # K가 들어가는 데이터를 단위에 맞춰서 변형한 후 df1에 저장\n",
        "    for j in df1.index : \n",
        "        df.loc[j, i] = df1.loc[j] # df1의 값을 바탕으로 df의 값을 변경\n",
        "    df[i] = df[i].astype(float) # df의 타입 변경\n",
        "df.head(11)"
      ],
      "metadata": {
        "id": "gRbd5aunzpBA"
      },
      "execution_count": null,
      "outputs": []
    },
    {
      "cell_type": "code",
      "source": [
        "# 연도도 정수형태로 변경 후, 연도의 데이터를 확인\n",
        "df['Year'] = df['Year'].astype(int)\n",
        "df.Year.unique()"
      ],
      "metadata": {
        "id": "6LaPGV_F4iU5"
      },
      "execution_count": null,
      "outputs": []
    },
    {
      "cell_type": "code",
      "source": [
        "# 연도의 형식에 맞지 않는 데이터 변경\n",
        "def year(x) :\n",
        "    if x < 22 :\n",
        "        return x + 2000\n",
        "    elif (x >= 22) & (x < 100) :\n",
        "        return x + 1900\n",
        "    else :\n",
        "        return x\n",
        "df['Year'] = df['Year'].apply(year)\n",
        "df.Year.unique()"
      ],
      "metadata": {
        "id": "pAqNmh7zMqS7"
      },
      "execution_count": null,
      "outputs": []
    },
    {
      "cell_type": "code",
      "source": [
        "# 게임의 출고량 총합을 나타내는 column 작성\n",
        "df['Sales_Total'] = df['EU_Sales'] + df['JP_Sales'] + df['NA_Sales'] + df['Other_Sales']"
      ],
      "metadata": {
        "id": "gR-Rk2DxnBt7"
      },
      "execution_count": null,
      "outputs": []
    },
    {
      "cell_type": "code",
      "source": [
        "# 최종 데이터 형태 확인\n",
        "df.info()"
      ],
      "metadata": {
        "id": "TirN86Qy5e1b"
      },
      "execution_count": null,
      "outputs": []
    },
    {
      "cell_type": "code",
      "source": [
        "df.head()"
      ],
      "metadata": {
        "id": "-D9bFllHnjuS"
      },
      "execution_count": null,
      "outputs": []
    },
    {
      "cell_type": "markdown",
      "source": [
        "# **Part 3. 다음 분기에 설계할 게임에 대한 기획 진행**\n",
        "## 게임 회사는 'Idea Factory'\n",
        "## 지금이 2016년도라 생각하고 2017년도에 설계할 게임에 대한 기획 진행\n",
        "   (2017년부터는 데이터가 거의 없기 때문에)"
      ],
      "metadata": {
        "id": "HulTaU0_6AH0"
      }
    },
    {
      "cell_type": "code",
      "source": [
        "# df = 전체 데이터, df_co = 내가 정한 회사의 데이터\n",
        "# 다음 분기를 계획하는 것이기 때문에 최근 10년의 데이터를 바탕으로 기획 진행\n",
        "df_all = df[(df.Year >= 2012) & (df.Year < 2017)]\n",
        "df_co = df[(df.Year >= 2012) & (df.Year < 2017) & (df.Publisher == 'Idea Factory')]\n",
        "df_co.info()"
      ],
      "metadata": {
        "id": "0ygd6PzHRN4S"
      },
      "execution_count": null,
      "outputs": []
    },
    {
      "cell_type": "code",
      "source": [
        "df_co.head()"
      ],
      "metadata": {
        "id": "3yBMErvSJ4PF"
      },
      "execution_count": null,
      "outputs": []
    },
    {
      "cell_type": "code",
      "source": [
        "df_all.info()"
      ],
      "metadata": {
        "id": "vlKWDfbwWOOQ"
      },
      "execution_count": null,
      "outputs": []
    },
    {
      "cell_type": "code",
      "source": [
        "df_all.head()"
      ],
      "metadata": {
        "id": "DmWGQLa3WU1P"
      },
      "execution_count": null,
      "outputs": []
    },
    {
      "cell_type": "markdown",
      "source": [
        "## **Question 1. 지역에 따라 선호하는 게임 장르가 다를까**"
      ],
      "metadata": {
        "id": "0qRtiwohH073"
      }
    },
    {
      "cell_type": "code",
      "source": [
        "# 장르로 그룹화\n",
        "def genre_by_region(df) :\n",
        "    df_by_Genre = df.groupby(['Genre'])[['NA_Sales','EU_Sales','JP_Sales','Other_Sales']].sum() # 장르로 그룹화\n",
        "    df_by_region = df_by_Genre.transpose() # 지역별로 확인하기 전치행렬\n",
        "\n",
        "    #시각화\n",
        "    df_by_region.plot.bar(figsize=(10,6))\n",
        "    plt.xlabel('지역', size = 20)\n",
        "    plt.xticks(rotation = 0, size = 15)\n",
        "    plt.ylabel('판매량\\n(단위 : 백만)', size = 15, rotation = 0, labelpad = 40)\n",
        "    plt.suptitle('지역별 장르의 판매량', size = 25)\n",
        "    if len(df) <= 100 : \n",
        "        plt.title('by Idea Factory', size = 15)\n",
        "    else : \n",
        "        plt.title('by 모든 게임회사', size = 15)\n",
        "    plt.show()"
      ],
      "metadata": {
        "id": "MbJjU0rITi-k"
      },
      "execution_count": null,
      "outputs": []
    },
    {
      "cell_type": "code",
      "source": [
        "genre_by_region(df_co)"
      ],
      "metadata": {
        "id": "JZwmKkBZZNKA"
      },
      "execution_count": null,
      "outputs": []
    },
    {
      "cell_type": "code",
      "source": [
        "genre_by_region(df_all)"
      ],
      "metadata": {
        "id": "U-o0KWseZ8bS"
      },
      "execution_count": null,
      "outputs": []
    },
    {
      "cell_type": "markdown",
      "source": [
        "## **Question 2. 연도별 게임의 트렌드가 있을까**"
      ],
      "metadata": {
        "id": "dqDu-FMcIP7q"
      }
    },
    {
      "cell_type": "code",
      "source": [
        "df1 = df_all.groupby(['Genre', 'Year'], as_index=False)[['Sales_Total']].sum() # 장르로 그룹화\n",
        "df1.head()"
      ],
      "metadata": {
        "id": "DzNJNUm-qkLz"
      },
      "execution_count": null,
      "outputs": []
    },
    {
      "cell_type": "code",
      "source": [
        "df1.Genre.unique()"
      ],
      "metadata": {
        "id": "AhBwV9HQzFx-"
      },
      "execution_count": null,
      "outputs": []
    },
    {
      "cell_type": "code",
      "source": [
        "genre_list = df1.Genre.unique()\n",
        "plt.figure(figsize = (10, 6))\n",
        "for i in range(len(genre_list)) :\n",
        "    plt.plot(df1[df1.Genre == genre_list[i]]['Year'], df1[df1.Genre == genre_list[i]]['Sales_Total'], label = genre_list[i])\n",
        "    plt.xlabel('연도', size = 20)\n",
        "    plt.ylabel('판매량\\n(단위 : 백만)', size = 15, rotation = 0, labelpad = 40)\n",
        "    plt.xticks(range(2012, 2017, 1))\n",
        "    plt.legend()"
      ],
      "metadata": {
        "id": "IjzHnYeIvZl_"
      },
      "execution_count": null,
      "outputs": []
    },
    {
      "cell_type": "code",
      "source": [
        "df2 = df_all.groupby(['Platform', 'Year'], as_index=False)[['Sales_Total']].sum() # 장르로 그룹화\n",
        "df2.head()"
      ],
      "metadata": {
        "id": "-nmwsK9itkdH"
      },
      "execution_count": null,
      "outputs": []
    },
    {
      "cell_type": "code",
      "source": [
        "df2.Platform.unique()"
      ],
      "metadata": {
        "id": "hNNkK85o7-yB"
      },
      "execution_count": null,
      "outputs": []
    },
    {
      "cell_type": "code",
      "source": [
        "genre_list = df2.Platform.unique()\n",
        "plt.figure(figsize = (10, 6))\n",
        "for i in range(len(genre_list)) :\n",
        "    plt.plot(df2[df2.Platform == genre_list[i]]['Year'], df2[df2.Platform == genre_list[i]]['Sales_Total'], label = genre_list[i])\n",
        "    plt.xlabel('연도', size = 20)\n",
        "    plt.ylabel('판매량\\n(단위 : 백만)', size = 15, rotation = 0, labelpad = 40)\n",
        "    plt.legend()"
      ],
      "metadata": {
        "id": "Zq4sm0Gp7wFT"
      },
      "execution_count": null,
      "outputs": []
    },
    {
      "cell_type": "code",
      "source": [
        "df_all[df_all.Year >= 2017]"
      ],
      "metadata": {
        "id": "PdD7JHr-CCna"
      },
      "execution_count": null,
      "outputs": []
    },
    {
      "cell_type": "markdown",
      "source": [
        "## **Question 3. 출고량이 높은 게임에 대한 분석 및 시각화**"
      ],
      "metadata": {
        "id": "Ih80dojAIaIh"
      }
    }
  ]
}