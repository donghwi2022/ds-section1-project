{
  "nbformat": 4,
  "nbformat_minor": 0,
  "metadata": {
    "colab": {
      "name": "section1_project.ipynb",
      "private_outputs": true,
      "provenance": [],
      "authorship_tag": "ABX9TyMwq7K8S5zeClIFiWorxIkW",
      "include_colab_link": true
    },
    "kernelspec": {
      "name": "python3",
      "display_name": "Python 3"
    },
    "language_info": {
      "name": "python"
    }
  },
  "cells": [
    {
      "cell_type": "markdown",
      "metadata": {
        "id": "view-in-github",
        "colab_type": "text"
      },
      "source": [
        "<a href=\"https://colab.research.google.com/github/donghwi2022/ds-section1-project/blob/main/project.ipynb\" target=\"_parent\"><img src=\"https://colab.research.google.com/assets/colab-badge.svg\" alt=\"Open In Colab\"/></a>"
      ]
    },
    {
      "cell_type": "markdown",
      "source": [
        "# 다음 분기에 어떤 게임을 설계해야 할까"
      ],
      "metadata": {
        "id": "8Dorug8dPvsI"
      }
    },
    {
      "cell_type": "markdown",
      "source": [
        "# **Part 1. 필요 라이브러리 및 데이터 로드**\n",
        "- 필요 라이브러리 import 및 한글 깨짐문제 해결\n",
        "- csv 파일 load"
      ],
      "metadata": {
        "id": "Hki1AimITVfd"
      }
    },
    {
      "cell_type": "code",
      "execution_count": null,
      "metadata": {
        "id": "c1NFKy-ciOFS"
      },
      "outputs": [],
      "source": [
        "import pandas as pd\n",
        "import matplotlib.pyplot as plt"
      ]
    },
    {
      "cell_type": "code",
      "source": [
        "#한글 깨짐문제 해결\n",
        "!sudo apt-get install -y fonts-nanum\n",
        "!sudo fc-cache -fv\n",
        "!rm ~/.cache/matplotlib -rf\n",
        "\n",
        "plt.rc('font', family='NanumBarunGothic');"
      ],
      "metadata": {
        "id": "Q8blmUpCQRFb"
      },
      "execution_count": null,
      "outputs": []
    },
    {
      "cell_type": "code",
      "source": [
        "# url로 필요 csv 파일 불러오기\n",
        "url = \"https://ds-lecture-data.s3.ap-northeast-2.amazonaws.com/datasets/vgames2.csv\"\n",
        "df = pd.read_csv(url)\n",
        "df.head()"
      ],
      "metadata": {
        "id": "QEGElHR5QRKQ"
      },
      "execution_count": null,
      "outputs": []
    },
    {
      "cell_type": "markdown",
      "source": [
        "# **Part 2. 데이터 전처리 진행**"
      ],
      "metadata": {
        "id": "PQDOoe-jTMKv"
      }
    },
    {
      "cell_type": "code",
      "source": [
        "df.info()"
      ],
      "metadata": {
        "id": "6AXTNZpWUXOA"
      },
      "execution_count": null,
      "outputs": []
    },
    {
      "cell_type": "code",
      "source": [
        "# 첫번째 column은 index를 나타내므로 해당 열 제거\n",
        "df.drop('Unnamed: 0', axis = 1, inplace = True)\n",
        "df.head()"
      ],
      "metadata": {
        "id": "BtOYOoH9Uznb"
      },
      "execution_count": null,
      "outputs": []
    },
    {
      "cell_type": "code",
      "source": [
        "# 결측치 확인\n",
        "df.isnull().sum()"
      ],
      "metadata": {
        "id": "rjpoT5rdVwEh"
      },
      "execution_count": null,
      "outputs": []
    },
    {
      "cell_type": "code",
      "source": [
        "# 데이터 양이 충분하므로, 결측치가 존재하는 데이터 삭제\n",
        "df.dropna(inplace = True)\n",
        "df.info()"
      ],
      "metadata": {
        "id": "xOTfDmfcXJZp"
      },
      "execution_count": null,
      "outputs": []
    },
    {
      "cell_type": "code",
      "source": [
        "# 중복값 확인(게임 명, 지원되는 플랫폼, 출시 연도, 장르, 게임회사 명이 같은 row는 중복데이터로 간주)\n",
        "df[df.duplicated(['Name', 'Platform', 'Year', 'Genre', 'Publisher'])]"
      ],
      "metadata": {
        "id": "Zrz23yuneFQo"
      },
      "execution_count": null,
      "outputs": []
    },
    {
      "cell_type": "code",
      "source": [
        "# 중복되는 데이터 확인\n",
        "df[(df.Name == 'Madden NFL 13') & (df.Platform == 'PS3') & (df.Year == 2012.0) & (df.Genre == 'Sports') & (df.Publisher == 'Electronic Arts')]"
      ],
      "metadata": {
        "id": "zmlOCC-4kUN8"
      },
      "execution_count": null,
      "outputs": []
    },
    {
      "cell_type": "code",
      "source": [
        "# 중복되는 데이터 중 정확한 데이터를 알 수 없기 때문에 해당 row를 전부 삭제\n",
        "duplicate_index = df[df.duplicated(['Name', 'Platform', 'Year', 'Genre', 'Publisher'])].index\n",
        "duplicated_all_index = []\n",
        "for i in range(len(duplicate_index)) :\n",
        "    duplicated_data = df.loc[duplicate_index[i]].Name, df.loc[duplicate_index[i]].Platform, df.loc[duplicate_index[i]].Year, df.loc[duplicate_index[i]].Genre, df.loc[duplicate_index[i]].Publisher\n",
        "    duplicated_all_index.extend(df[(df.Name == duplicated_data[0]) & (df.Platform == duplicated_data[1]) & (df.Year == duplicated_data[2]) & (df.Genre == duplicated_data[3]) & (df.Publisher == duplicated_data[4])].index)\n",
        "    # append를 사용할 경우 배열에 배열을 추가할 시, 배열이 그대로 유지되지만 extend는 쪼개서 한 개씩 들어감\n",
        "df.drop(duplicated_all_index, inplace = True)\n",
        "df.info()"
      ],
      "metadata": {
        "id": "PBAIecAIq1hp"
      },
      "execution_count": null,
      "outputs": []
    },
    {
      "cell_type": "code",
      "source": [
        "df_1 = df.EU_Sales.str.extract(r'([^\\.\\d])')\n",
        "df_1[0].unique()"
      ],
      "metadata": {
        "id": "Z43G30-J3q83"
      },
      "execution_count": null,
      "outputs": []
    },
    {
      "cell_type": "code",
      "source": [
        "# 출고량에 해당하는 column에서 숫자가 아닌 타입을 출력\n",
        "df[df.EU_Sales.str.extract(r'([^\\.\\d])').notnull()].head(11)"
      ],
      "metadata": {
        "id": "0IReECLgm1is"
      },
      "execution_count": null,
      "outputs": []
    }
  ]
}